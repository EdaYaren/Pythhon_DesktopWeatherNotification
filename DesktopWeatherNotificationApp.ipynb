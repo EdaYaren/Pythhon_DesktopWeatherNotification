{
 "cells": [
  {
   "cell_type": "markdown",
   "id": "ef0ec131",
   "metadata": {},
   "source": [
    "# DESKTOP WEATHER NOTİFİCATİON APP"
   ]
  },
  {
   "cell_type": "markdown",
   "id": "f2b3d2d1",
   "metadata": {},
   "source": [
    "### Kütüphaneler Hakkında:\n",
    "\n",
    "1. `notify2`:\n",
    "\n",
    "*  `notify2` Python'da masaüstü bildirimleri oluşturmak için kullanılan bir kütüphanedir. Linux işletim sistemlerinde GNOME, KDE veya benzeri masaüstü ortamlarında bildirimler göndermek için tercih edilir. `notify2`, kullanıcıya bilgi vermek, hatırlatmalar göstermek veya herhangi bir olay hakkında anında geri bildirim sağlamak için kullanılabilir.\n",
    "\n",
    "`notify2` Özellikleri:\n",
    "- Bildirim başlığı ve mesajı belirleyebilme\n",
    "- Bildirimlerin süresini ayarlayabilme\n",
    "- Bildirimlere simge ekleyebilme\n",
    "- Bildirimlerin öncelik seviyelerini (düşük, normal, kritik) belirleyebilme\n",
    "\n",
    "**NOT:** \n",
    "\n",
    "`notify2` kütüphanesi, masaüstü ortamına bağımlı olduğu için Colab gibi tarayıcı tabanlı platformlarda çalışmaz. Colab, masaüstü bildirimlerini desteklemez ve `notify2` gibi kütüphanelerin çalışması için gerekli olan D-Bus ve GUI desteği yoktur.\n",
    "\n",
    "\n",
    "* `notify2` kütüphanesi, bildirimleri gönderebilmek için Linux sistemlerinde `dbus` modülüne ihtiyaç duyar. `dbus` genellikle Linux sistemlerinde varsayılan olarak bulunur, ancak bazı durumlarda eksik olabilir ya da yüklü olmayabilir. Windows veya macOS gibi diğer işletim sistemlerinde `dbus` desteği olmaması nedeniyle `notify2` kütüphanesi çalışmaz. Alternatif olarak, Windows’ta bildirimleri göndermek için `plyer` veya `win10toast` gibi kütüphaneleri kullanabilirsiniz.\n",
    "\n",
    "2. `requests`:\n",
    "\n",
    "* `requests`, API'lere erişim sağlayarak hava durumu gibi dış kaynaklardan veri çekmenizi mümkün kılar.\n",
    "* Python'daki `requests` kütüphanesi, HTTP istekleri yapmayı basitleştiren güçlü ve popüler bir kütüphanedir. Bu kütüphane sayesinde API'ler veya web siteleriyle kolayca veri alışverişi yapabiliriz. `requests`, HTTP üzerinden GET, POST, PUT, DELETE gibi istek türlerini destekler ve JSON verisi gibi çeşitli veri formatlarıyla çalışmayı sağlar.\n",
    "\n",
    "**ADIMLAR:**\n",
    "1. API'den Hava Durumu Bilgisini Alın: Hava durumu API'sinden konumunuza ait günlük tahminleri almak için requests ile bir GET isteği gönderin.\n",
    "2. Bildirimi Gösterin: Çektiğiniz hava durumu bilgisini masaüstü bildirim kütüphanesi (örneğin, win10toast veya plyer) ile kullanıcıya gösterin.\n",
    "3. Günlük Olarak Çalıştırın: Uygulamanızın her gün belirli bir saatte çalışması için bir zamanlayıcı kurun (Windows Görev Zamanlayıcısı veya bir Python zamanlama modülüyle).\n",
    "\n",
    "Böylece her gün bilgisayarınıza o günün hava durumu bildirimi gelir."
   ]
  },
  {
   "cell_type": "code",
   "execution_count": 2,
   "id": "af521ed9",
   "metadata": {
    "scrolled": false
   },
   "outputs": [
    {
     "name": "stdout",
     "output_type": "stream",
     "text": [
      "Defaulting to user installation because normal site-packages is not writeable\n",
      "Requirement already satisfied: win10toast in c:\\users\\yaren\\appdata\\roaming\\python\\python39\\site-packages (0.9)\n",
      "Requirement already satisfied: setuptools in c:\\programdata\\anaconda3\\lib\\site-packages (from win10toast) (61.2.0)\n",
      "Requirement already satisfied: pypiwin32 in c:\\users\\yaren\\appdata\\roaming\\python\\python39\\site-packages (from win10toast) (223)\n",
      "Requirement already satisfied: pywin32>=223 in c:\\programdata\\anaconda3\\lib\\site-packages (from pypiwin32->win10toast) (302)\n",
      "Note: you may need to restart the kernel to use updated packages.\n"
     ]
    }
   ],
   "source": [
    "pip install win10toast"
   ]
  },
  {
   "cell_type": "code",
   "execution_count": 3,
   "id": "4e5d0277",
   "metadata": {},
   "outputs": [],
   "source": [
    "from win10toast import ToastNotifier\n",
    "import requests\n",
    "from getpass import getpass  # API anahtarını gizlemek için kullanılır.\n",
    "import time\n",
    "from datetime import datetime, timedelta"
   ]
  },
  {
   "cell_type": "code",
   "execution_count": 4,
   "id": "ea16ae85",
   "metadata": {},
   "outputs": [
    {
     "name": "stdout",
     "output_type": "stream",
     "text": [
      "API anahtarınızı giriniz: ········\n",
      "{'location': {'name': 'Ankara', 'region': 'Ankara', 'country': 'Turkey', 'lat': 39.9272, 'lon': 32.8644, 'tz_id': 'Europe/Istanbul', 'localtime_epoch': 1730816264, 'localtime': '2024-11-05 17:17'}, 'current': {'last_updated_epoch': 1730816100, 'last_updated': '2024-11-05 17:15', 'temp_c': 6.9, 'temp_f': 44.5, 'is_day': 1, 'condition': {'text': 'Sunny', 'icon': '//cdn.weatherapi.com/weather/64x64/day/113.png', 'code': 1000}, 'wind_mph': 4.3, 'wind_kph': 6.8, 'wind_degree': 38, 'wind_dir': 'NE', 'pressure_mb': 1024.0, 'pressure_in': 30.25, 'precip_mm': 0.0, 'precip_in': 0.0, 'humidity': 42, 'cloud': 5, 'feelslike_c': 5.7, 'feelslike_f': 42.2, 'windchill_c': 5.7, 'windchill_f': 42.2, 'heatindex_c': 6.9, 'heatindex_f': 44.5, 'dewpoint_c': -5.0, 'dewpoint_f': 23.1, 'vis_km': 10.0, 'vis_miles': 6.0, 'uv': 0.2, 'gust_mph': 8.1, 'gust_kph': 13.0}}\n",
      "\n",
      "Sıcaklık: 6.9°C, Hava Durumu: Sunny\n"
     ]
    }
   ],
   "source": [
    "# 1.Adım: Hava durumu bilgisini alabilmek için web sitesine `requests` kütüphanesi ile bir get isteği gönderilir.\n",
    "\n",
    "# NOT: Hava durumu verilerini ücretsiz olarak bir siteden çekebilmek için 'https://www.weatherapi.com/'' sitesine ücretsiz \n",
    "# kayıt olarak oradaki ücretsiz plan ile API anahtarınızı oluşturup kullanabilirsiniz.\n",
    "\n",
    "# API anahtarını ve şehir adı eklenir.\n",
    "api_key = getpass(\"API anahtarınızı giriniz: \")\n",
    "city = \"Ankara\"\n",
    "\n",
    "# Hava durumu verilerini almak için URL oluşturulur.\n",
    "url = f\"http://api.weatherapi.com/v1/current.json?key={api_key}&q={city}\"\n",
    "\n",
    "weather = requests.get(url)\n",
    "\n",
    "if weather.status_code == 200: \n",
    "    # status_code, sunucunun döndürdüğü HTTP durum kodunu ifade eder. \n",
    "    # 200 kodu, isteğin başarılı olduğunu ve sunucunun veriyi başarıyla döndürdüğünü belirtir.\n",
    "    data = weather.json() \n",
    "    print(data)  # data bir sözlük yapısıdır. Bu nedenle almak istediğimiz bilgilere anahtar isimlerini kullanarak ulaşırız.\n",
    "    temperature = data['current']['temp_c']\n",
    "    condition = data['current']['condition']['text']\n",
    "    print(f\"\\nSıcaklık: {temperature}°C, Hava Durumu: {condition}\")\n",
    "else:\n",
    "    print(\"Hava durumu verileri alınamadı.\")"
   ]
  },
  {
   "cell_type": "code",
   "execution_count": 5,
   "id": "bf81383c",
   "metadata": {},
   "outputs": [
    {
     "data": {
      "text/plain": [
       "True"
      ]
     },
     "execution_count": 5,
     "metadata": {},
     "output_type": "execute_result"
    }
   ],
   "source": [
    "# 2.Adım: Web sitesinden alınan bilgiler ile bir masaüstü bildirimi oluşturulur.\n",
    "toaster = ToastNotifier()\n",
    "toaster.show_toast(\"Hava Durumu\", f\"Sıcaklık: {temperature}°C, Hava Durumu: {condition}\", duration=10)\n",
    "# duration=10: Bu ifade, bildirim penceresinin 10 saniye boyunca görünür kalacağını belirtir."
   ]
  },
  {
   "cell_type": "code",
   "execution_count": 4,
   "id": "675fe197",
   "metadata": {},
   "outputs": [
    {
     "name": "stdout",
     "output_type": "stream",
     "text": [
      "API anahtarınızı giriniz: ········\n"
     ]
    }
   ],
   "source": [
    "# Kodlar bir fonksiyon içerisinde bir araya getirilir.\n",
    "api_key = getpass(\"API anahtarınızı giriniz: \")\n",
    "city = \"Ankara\"\n",
    "\n",
    "toaster = ToastNotifier()\n",
    "\n",
    "def get_weather(api_key, city):\n",
    "    url = f\"http://api.weatherapi.com/v1/current.json?key={api_key}&q={city}\"\n",
    "    \n",
    "    weather = requests.get(url)\n",
    "    \n",
    "    if weather.status_code == 200:\n",
    "        data = weather.json() \n",
    "        print(\"Hava durumu verileri başarılı bir şekilde alındı.\")\n",
    "        temperature = data['current']['temp_c']\n",
    "        condition = data['current']['condition']['text']\n",
    "        \n",
    "        toaster.show_toast(\"Hava Durumu\", f\"Sıcaklık: {temperature}°C, Hava Durumu: {condition}\", duration=10)\n",
    "    else:\n",
    "        print(\"Hava durumu verileri alınamadı!\")"
   ]
  },
  {
   "cell_type": "code",
   "execution_count": null,
   "id": "4c0db18d",
   "metadata": {},
   "outputs": [
    {
     "name": "stdout",
     "output_type": "stream",
     "text": [
      "Hava durumu verileri başarılı bir şekilde alındı.\n",
      "Bildirim yarın gerçekleşecek!\n"
     ]
    }
   ],
   "source": [
    "# 3.Adım: Her gün aynı saatte bu bildirimleri alabilmek için `time` kütüphanesini kullanarak bir döngü oluşturulur.\n",
    "while True:\n",
    "    now = datetime.now()\n",
    "    target_time = now.replace(hour=17, minute=8, second=0, microsecond=0)\n",
    "    \n",
    "    if now > target_time:\n",
    "        # Eğer saat hedef zamanı geçmişse, hedef zaman bir gün ileri alınır.\n",
    "        target_time += timedelta(days=1)\n",
    "        print(\"Bildirim yarın gerçekleşecek!\")\n",
    "    # Hedef zamana kadar beklenir.\n",
    "    time_to_wait = (target_time-now).total_seconds()\n",
    "    time.sleep(time_to_wait)\n",
    "    \n",
    "    # Hava durumu bilgisi çağırılır.\n",
    "    get_weather(api_key, city)"
   ]
  }
 ],
 "metadata": {
  "kernelspec": {
   "display_name": "Python 3 (ipykernel)",
   "language": "python",
   "name": "python3"
  },
  "language_info": {
   "codemirror_mode": {
    "name": "ipython",
    "version": 3
   },
   "file_extension": ".py",
   "mimetype": "text/x-python",
   "name": "python",
   "nbconvert_exporter": "python",
   "pygments_lexer": "ipython3",
   "version": "3.9.12"
  }
 },
 "nbformat": 4,
 "nbformat_minor": 5
}
